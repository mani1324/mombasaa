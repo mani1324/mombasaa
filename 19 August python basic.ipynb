{
 "cells": [
  {
   "cell_type": "code",
   "execution_count": null,
   "id": "f937d5e2-05e6-4ace-844b-bd903857d995",
   "metadata": {},
   "outputs": [],
   "source": [
    "##Python basics variable\n",
    "# Question ni. 1\n",
    "\n",
    "#swapping of two variables\n",
    "x=10\n",
    "y=12"
   ]
  },
  {
   "cell_type": "code",
   "execution_count": 4,
   "id": "1167c3ae-be1c-4dd4-9bc1-e0acecfee929",
   "metadata": {},
   "outputs": [],
   "source": [
    "x,y=y,x   #without using temporary variable"
   ]
  },
  {
   "cell_type": "code",
   "execution_count": 3,
   "id": "cebdd6ca-763c-4ff9-99cc-e4434d70122c",
   "metadata": {},
   "outputs": [
    {
     "name": "stdout",
     "output_type": "stream",
     "text": [
      "12\n",
      "10\n"
     ]
    }
   ],
   "source": [
    "print(x)\n",
    "print(y)"
   ]
  },
  {
   "cell_type": "code",
   "execution_count": 1,
   "id": "62bb6a36-e639-41c7-8a60-31adb8a1e1d1",
   "metadata": {},
   "outputs": [],
   "source": [
    "#Question no. 2\n",
    "\n",
    "#Calculate the area of ractangle"
   ]
  },
  {
   "cell_type": "code",
   "execution_count": 35,
   "id": "6ce8cc5f-d187-4e9f-9f8a-7ff664b64f5a",
   "metadata": {},
   "outputs": [
    {
     "name": "stdin",
     "output_type": "stream",
     "text": [
      " 5\n"
     ]
    }
   ],
   "source": [
    "h=float(input())  # h is height of ractangle"
   ]
  },
  {
   "cell_type": "code",
   "execution_count": 36,
   "id": "fd33fc49-ac4f-49a6-9f27-2f3cf3209676",
   "metadata": {},
   "outputs": [
    {
     "name": "stdin",
     "output_type": "stream",
     "text": [
      " 6\n"
     ]
    }
   ],
   "source": [
    "w=float(input()) # w is width of ractangle"
   ]
  },
  {
   "cell_type": "code",
   "execution_count": 37,
   "id": "472be19a-4bc7-443f-a5a3-ca061a182348",
   "metadata": {},
   "outputs": [],
   "source": [
    "a=h*w # Area= height * width"
   ]
  },
  {
   "cell_type": "code",
   "execution_count": 38,
   "id": "811f8d3f",
   "metadata": {},
   "outputs": [
    {
     "name": "stdout",
     "output_type": "stream",
     "text": [
      "30.0\n"
     ]
    }
   ],
   "source": [
    "print(a)"
   ]
  },
  {
   "cell_type": "code",
   "execution_count": 2,
   "id": "8b07b37f-cd86-460e-8a13-3d703fa4aa5f",
   "metadata": {},
   "outputs": [],
   "source": [
    "#Question no. 3\n",
    "\n",
    "# Celsius to fahrenheit conversion"
   ]
  },
  {
   "cell_type": "code",
   "execution_count": 34,
   "id": "48a5ee1f-464f-4c58-a32f-db77f3d70a55",
   "metadata": {},
   "outputs": [
    {
     "name": "stdin",
     "output_type": "stream",
     "text": [
      " 37\n"
     ]
    }
   ],
   "source": [
    "c=float(input())"
   ]
  },
  {
   "cell_type": "code",
   "execution_count": 35,
   "id": "4ab8137e-f08c-46dd-999b-923e53f7609b",
   "metadata": {},
   "outputs": [],
   "source": [
    "f=(c*1.8)+32"
   ]
  },
  {
   "cell_type": "code",
   "execution_count": 36,
   "id": "fdd69526-bced-4d5a-9c31-22a617108a4a",
   "metadata": {},
   "outputs": [
    {
     "name": "stdout",
     "output_type": "stream",
     "text": [
      "98.60000000000001\n"
     ]
    }
   ],
   "source": [
    "print(f)"
   ]
  },
  {
   "cell_type": "raw",
   "id": "4692fb48-9c03-48c0-ab08-764b973fd1d5",
   "metadata": {},
   "source": [
    "String based question\n",
    "\n",
    "Question on.1\n",
    "\n",
    "Find the length of string"
   ]
  },
  {
   "cell_type": "code",
   "execution_count": 1,
   "id": "cde75014-e11d-4106-acb6-779d14ad5058",
   "metadata": {},
   "outputs": [
    {
     "name": "stdin",
     "output_type": "stream",
     "text": [
      " Bagha Jatin\n"
     ]
    }
   ],
   "source": [
    "a=str(input())"
   ]
  },
  {
   "cell_type": "code",
   "execution_count": 2,
   "id": "26b75d6f-3ba0-4f3b-9b47-15cd4b7b4c24",
   "metadata": {},
   "outputs": [
    {
     "data": {
      "text/plain": [
       "11"
      ]
     },
     "execution_count": 2,
     "metadata": {},
     "output_type": "execute_result"
    }
   ],
   "source": [
    "len(a)"
   ]
  },
  {
   "cell_type": "code",
   "execution_count": null,
   "id": "2e6a0ab0-7cd8-4492-9b3a-b294ce45effa",
   "metadata": {},
   "outputs": [],
   "source": [
    "Question no.2"
   ]
  },
  {
   "cell_type": "code",
   "execution_count": 1,
   "id": "40a44877-7d94-4488-998c-d7907607fa7c",
   "metadata": {},
   "outputs": [
    {
     "name": "stdin",
     "output_type": "stream",
     "text": [
      " i will win not immediately but definitely\n"
     ]
    }
   ],
   "source": [
    "s=str(input())"
   ]
  },
  {
   "cell_type": "code",
   "execution_count": 16,
   "id": "d369db81-85fa-4ece-ae07-78b8731ee526",
   "metadata": {},
   "outputs": [],
   "source": [
    "v='aeiouAEIOU'"
   ]
  },
  {
   "cell_type": "code",
   "execution_count": 17,
   "id": "a58c6640-e690-473e-aad1-b9f77f30d94d",
   "metadata": {},
   "outputs": [],
   "source": [
    "count=sum(s.count(vowel) for vowel in v )"
   ]
  },
  {
   "cell_type": "code",
   "execution_count": 18,
   "id": "e5e9fa16-0098-4c6f-9b24-8148eef82a3d",
   "metadata": {},
   "outputs": [
    {
     "name": "stdout",
     "output_type": "stream",
     "text": [
      "14\n"
     ]
    }
   ],
   "source": [
    "print(count)"
   ]
  },
  {
   "cell_type": "markdown",
   "id": "a1065630-e142-48ab-82c1-576f29b5847b",
   "metadata": {},
   "source": [
    "Question no.3"
   ]
  },
  {
   "cell_type": "code",
   "execution_count": 19,
   "id": "35fc1ace-042c-4df8-81a6-81e44dde32fc",
   "metadata": {},
   "outputs": [],
   "source": [
    "s1=\"maharaja\""
   ]
  },
  {
   "cell_type": "code",
   "execution_count": 20,
   "id": "a3851d4b-16af-4718-b595-c23ca7322b6f",
   "metadata": {},
   "outputs": [
    {
     "data": {
      "text/plain": [
       "'ajaraham'"
      ]
     },
     "execution_count": 20,
     "metadata": {},
     "output_type": "execute_result"
    }
   ],
   "source": [
    "s1[::-1]"
   ]
  },
  {
   "cell_type": "code",
   "execution_count": null,
   "id": "591a2cfa-2f31-4e7e-bcdf-49a806a225ab",
   "metadata": {},
   "outputs": [],
   "source": [
    "Question no. 4"
   ]
  },
  {
   "cell_type": "code",
   "execution_count": 2,
   "id": "e6e5dfad-48e4-46e2-89c1-e92dd4e8cc6e",
   "metadata": {},
   "outputs": [
    {
     "name": "stdin",
     "output_type": "stream",
     "text": [
      "Enter a string: mamom\n"
     ]
    }
   ],
   "source": [
    "a=input(\"Enter a string:\")"
   ]
  },
  {
   "cell_type": "code",
   "execution_count": 3,
   "id": "3e3778e2-fda0-4cf1-9b3a-7127d3eb90e0",
   "metadata": {},
   "outputs": [],
   "source": [
    "b=a[-1::-1]"
   ]
  },
  {
   "cell_type": "code",
   "execution_count": 8,
   "id": "3e69da93-999a-4b1a-af16-09051eb82064",
   "metadata": {},
   "outputs": [
    {
     "name": "stdout",
     "output_type": "stream",
     "text": [
      "not palindrome string\n"
     ]
    }
   ],
   "source": [
    "if(a==b):\n",
    "    print(\"palindrome string\")\n",
    "else: \n",
    "    print(\"not palindrome string\")"
   ]
  },
  {
   "cell_type": "code",
   "execution_count": null,
   "id": "ef103cc8-5c9d-4c07-b141-94b4294207e9",
   "metadata": {},
   "outputs": [],
   "source": [
    "Question no 5"
   ]
  },
  {
   "cell_type": "code",
   "execution_count": 11,
   "id": "9cf44b5f-9240-440e-8d05-5548e110806b",
   "metadata": {},
   "outputs": [
    {
     "name": "stdin",
     "output_type": "stream",
     "text": [
      " m o n i k a\n"
     ]
    }
   ],
   "source": [
    "s3=input()\n"
   ]
  },
  {
   "cell_type": "code",
   "execution_count": 12,
   "id": "e7e73b44-f3bd-4244-bef0-f0e5f2dd38d7",
   "metadata": {},
   "outputs": [
    {
     "data": {
      "text/plain": [
       "'monika'"
      ]
     },
     "execution_count": 12,
     "metadata": {},
     "output_type": "execute_result"
    }
   ],
   "source": [
    "s3.replace(\" \",\"\")\n"
   ]
  },
  {
   "cell_type": "code",
   "execution_count": null,
   "id": "59ef9bbf-a78f-41bc-bef6-d09aea9b6ff6",
   "metadata": {},
   "outputs": [],
   "source": []
  },
  {
   "cell_type": "code",
   "execution_count": null,
   "id": "e76ecca1-0089-4f85-a43e-3bb58157002f",
   "metadata": {},
   "outputs": [],
   "source": []
  }
 ],
 "metadata": {
  "kernelspec": {
   "display_name": "Python 3 (ipykernel)",
   "language": "python",
   "name": "python3"
  },
  "language_info": {
   "codemirror_mode": {
    "name": "ipython",
    "version": 3
   },
   "file_extension": ".py",
   "mimetype": "text/x-python",
   "name": "python",
   "nbconvert_exporter": "python",
   "pygments_lexer": "ipython3",
   "version": "3.10.8"
  }
 },
 "nbformat": 4,
 "nbformat_minor": 5
}
